{
 "cells": [
  {
   "cell_type": "markdown",
   "id": "5b644054",
   "metadata": {},
   "source": [
    "<p align = \"center\"><b><span style = \"font-size: 35px;\">\n",
    "Bulk Image Editor\n",
    "</p></b>"
   ]
  },
  {
   "cell_type": "markdown",
   "id": "d644c181",
   "metadata": {},
   "source": [
    "<p align = \"center\"> <b><i><span style = \"font-size: 30px;\">\n",
    "Eliezer Carvalho - Summer 2025"
   ]
  },
  {
   "cell_type": "markdown",
   "id": "dd9697a8",
   "metadata": {},
   "source": [
    "-----------------------------------------------------------------------------------------------------------------------------------------------------------------------------------------------------------\n",
    "\n",
    "While browsing the internet, I noticed that there are many high-quality photo editors, but none that combine this quality with the ability to edit large quantities of images. \n",
    "\n",
    "This project has exactly that purpose: to create a simple program, based on image manipulation libraries such as Pillow and OpenCV, that allows you to edit a sample photo by adjusting parameters such as brightness or contrast, save those settings, and then automatically apply them to dozens or hundreds of other images within a folder. \n",
    "\n",
    "The processed photos are saved in the original folder with new names, preserving the existing files.\n",
    "\n",
    "\n",
    "-----------------------------------------------------------------------------------------------------------------------------------------------------------------------------------------------------------"
   ]
  },
  {
   "cell_type": "markdown",
   "id": "86f216a2",
   "metadata": {},
   "source": [
    "### **Main Libraries**"
   ]
  },
  {
   "cell_type": "code",
   "execution_count": 1,
   "id": "964067c3",
   "metadata": {},
   "outputs": [],
   "source": [
    "import tkinter as tk                                                    #INTERFACE\n",
    "from tkinter import filedialog, messagebox                              #INTERFACE\n",
    "import cv2                                                              #CONTRAST AND LUMINOSITY \n",
    "from pathlib import Path                                                #PATH FROM PC MEMORY\n",
    "from PIL import Image, ImageTk                                          #HANDLE IMAGES"
   ]
  },
  {
   "cell_type": "markdown",
   "id": "6fa449f4",
   "metadata": {},
   "source": [
    "### **Main Functions**"
   ]
  },
  {
   "cell_type": "code",
   "execution_count": null,
   "id": "2584fb0e",
   "metadata": {},
   "outputs": [],
   "source": [
    "def carregar_imagem():\n",
    "    \n",
    "    global imagem_original\n",
    "\n",
    "    extensões = [\".jpg\", \".png\", \".tiff\", \".jpeg\"]\n",
    "\n",
    "    caminho = filedialog.askopenfilename(filetypes = [(\"Imagens\", extensões)])\n",
    "    \n",
    "    if caminho:\n",
    "        imagem_original = cv2.imread(caminho)\n",
    "        largura_nova = 400\n",
    "        altura_nova = 580\n",
    "        imagem_original  = cv2.resize(imagem_original, (largura_nova, altura_nova), interpolation = cv2.INTER_AREA)\n",
    "        ajustar_imagem()\n",
    "\n",
    "\n",
    "\n",
    "\n",
    "def ajustar_imagem():\n",
    "\n",
    "    global imagem_original, tk_imagem\n",
    "    \n",
    "    alpha = contraste.get()      \n",
    "    beta = luminosidade.get()          \n",
    "    \n",
    "    imagem_editada = cv2.convertScaleAbs(imagem_original, alpha = alpha, beta = beta)\n",
    "    \n",
    "    imagem_PILLOW = Image.fromarray(cv2.cvtColor(imagem_editada, cv2.COLOR_BGR2RGB))\n",
    "\n",
    "    tk_imagem = ImageTk.PhotoImage(imagem_PILLOW)\n",
    "    label_imagem.config(image = tk_imagem)\n",
    "    label_imagem.image = tk_imagem\n",
    "\n",
    "\n",
    "\n",
    "def guardar_def ():\n",
    "\n",
    "    global definições\n",
    "\n",
    "    definições = {\n",
    "\n",
    "        \"alpha\": contraste.get(),      \n",
    "        \"beta\": luminosidade.get() \n",
    "\n",
    "    }\n",
    "\n",
    "\n",
    "\n",
    "def aplicar_pasta ():\n",
    "\n",
    "\n",
    "    extensões = [\".jpg\", \".png\", \".tiff\", \".jpeg\"]\n",
    "\n",
    "    caminho = filedialog.askdirectory()\n",
    "    \n",
    "    pasta = Path(caminho)\n",
    "\n",
    "\n",
    "    saída = pasta / f\"{pasta.name}_Editadas\"\n",
    "    saída.mkdir (exist_ok = True) \n",
    "\n",
    "\n",
    "    for ficheiro in pasta.iterdir():\n",
    "        if ficheiro.suffix.lower() in extensões:\n",
    "\n",
    "            img = cv2.imread(str(ficheiro))\n",
    "\n",
    "            img_editada = cv2.convertScaleAbs (img, alpha = definições [\"alpha\"], beta = definições [\"beta\"])\n",
    "\n",
    "   \n",
    "            caminho_saída = saída / ficheiro.name \n",
    "            cv2.imwrite(str(caminho_saída), img_editada)\n",
    "\n",
    "\n",
    "    messagebox.showinfo (\"Sucesso\")"
   ]
  },
  {
   "cell_type": "markdown",
   "id": "a3ae76fa",
   "metadata": {},
   "source": [
    "### **Basic Interface with Tkinter**"
   ]
  },
  {
   "cell_type": "code",
   "execution_count": 3,
   "id": "465db5a7",
   "metadata": {},
   "outputs": [
    {
     "name": "stderr",
     "output_type": "stream",
     "text": [
      "Exception in Tkinter callback\n",
      "Traceback (most recent call last):\n",
      "  File \"c:\\Users\\eliez\\AppData\\Local\\Programs\\Python\\Python313\\Lib\\tkinter\\__init__.py\", line 2068, in __call__\n",
      "    return self.func(*args)\n",
      "           ~~~~~~~~~^^^^^^^\n",
      "  File \"C:\\Users\\eliez\\AppData\\Local\\Temp\\ipykernel_24272\\1220622148.py\", line 14, in <lambda>\n",
      "    contraste = tk.Scale(janela, from_ = 0.5, to = 2.0, resolution = 0.1, length = 500, width = 20, orient = \"horizontal\", bg = \"#F7E773\", fg = \"#F35D66\", label = \"CONTRASTE\", troughcolor = \"#F35D66\", highlightbackground = \"#F7E773\", command = lambda x: ajustar_imagem())\n",
      "                                                                                                                                                                                                                                                              ~~~~~~~~~~~~~~^^\n",
      "  File \"C:\\Users\\eliez\\AppData\\Local\\Temp\\ipykernel_24272\\100637866.py\", line 28, in ajustar_imagem\n",
      "    imagem_PILLOW = Image.fromarray(cv2.cvtColor(imagem_editada, cv2.COLOR_BGR2RGB))\n",
      "                                    ~~~~~~~~~~~~^^^^^^^^^^^^^^^^^^^^^^^^^^^^^^^^^^^\n",
      "cv2.error: OpenCV(4.12.0) D:\\a\\opencv-python\\opencv-python\\opencv\\modules\\imgproc\\src\\color.cpp:199: error: (-215:Assertion failed) !_src.empty() in function 'cv::cvtColor'\n",
      "\n"
     ]
    }
   ],
   "source": [
    "janela = tk.Tk()\n",
    "janela.title(\"Editor de Imagens em Massa - Eliezer Carvalho\")\n",
    "janela.geometry(\"1200x1200\")\n",
    "janela.config(bg = \"#F7E773\")\n",
    "\n",
    "botão_carregar_imagem = tk.Button(janela, text = \"CARREGAR UMA IMAGEM DE EXEMPLO\", command = carregar_imagem, bg = \"#F7E773\", fg = \"#F35D66\", font = (\"Arial\", 9, \"bold\")).pack(pady = (10, 0))\n",
    "\n",
    "\n",
    "\n",
    "luminosidade = tk.Scale(janela, from_ = -50, to = 100, length = 500, width = 20, orient = \"horizontal\", bg = \"#F7E773\", fg = \"#F35D66\", label = \"LUMINOSIDADE\", troughcolor = \"#F35D66\", highlightbackground = \"#F7E773\", command = lambda x: ajustar_imagem())\n",
    "luminosidade.set(0)\n",
    "luminosidade.pack()\n",
    "\n",
    "contraste = tk.Scale(janela, from_ = 0.5, to = 2.0, resolution = 0.1, length = 500, width = 20, orient = \"horizontal\", bg = \"#F7E773\", fg = \"#F35D66\", label = \"CONTRASTE\", troughcolor = \"#F35D66\", highlightbackground = \"#F7E773\", command = lambda x: ajustar_imagem())\n",
    "contraste.set(1.0)\n",
    "contraste.pack()\n",
    "\n",
    "label_imagem = tk.Label(janela)\n",
    "label_imagem.pack(pady = (10, 0))\n",
    "\n",
    "\n",
    "botão_guardar_definições = tk.Button (janela, text = \"GUARDAR DEFINIÇÕES\", bg = \"#F7E773\", fg = \"#F35D66\", font = (\"Arial\", 9, \"bold\"), command = guardar_def).pack(pady = (10, 0))\n",
    "\n",
    "\n",
    "aplicar_a_uma_pasta = tk.Button (janela, text = \"APLICAR DEFINIÇÕES A UMA PASTA\", bg = \"#F7E773\", fg = \"#F35D66\", font = (\"Arial\", 9, \"bold\"), command = aplicar_pasta).pack(pady = (5, 0))\n",
    "\n",
    "\n",
    "\n",
    "imagem_original = None\n",
    "tk_imagem = None\n",
    "\n",
    "janela.mainloop()\n"
   ]
  },
  {
   "cell_type": "markdown",
   "id": "a30e9d5b",
   "metadata": {},
   "source": [
    "Copyright © 2025 Eliezer Carvalho  \n",
    "Todos os direitos reservados."
   ]
  }
 ],
 "metadata": {
  "kernelspec": {
   "display_name": "Python 3",
   "language": "python",
   "name": "python3"
  },
  "language_info": {
   "codemirror_mode": {
    "name": "ipython",
    "version": 3
   },
   "file_extension": ".py",
   "mimetype": "text/x-python",
   "name": "python",
   "nbconvert_exporter": "python",
   "pygments_lexer": "ipython3",
   "version": "3.13.0"
  }
 },
 "nbformat": 4,
 "nbformat_minor": 5
}
